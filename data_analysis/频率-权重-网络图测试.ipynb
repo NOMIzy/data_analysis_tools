{
 "cells": [
  {
   "cell_type": "code",
   "execution_count": 8,
   "metadata": {},
   "outputs": [],
   "source": [
    "import pandas as pd\n",
    "from collections import Counter\n"
   ]
  },
  {
   "cell_type": "code",
   "execution_count": 9,
   "metadata": {},
   "outputs": [],
   "source": [
    "def check_common_strings_across_columns(df):\n",
    "    \"\"\"\n",
    "    检查DataFrame的不同列中是否有相同的字符串，并返回列名和具体重复值\n",
    "\n",
    "    参数:\n",
    "    df (pd.DataFrame): 数据框\n",
    "\n",
    "    返回:\n",
    "    list: 包含列名和具体重复值的列表\n",
    "    \"\"\"\n",
    "    common_strings = []\n",
    "    columns = df.columns.tolist()\n",
    "    \n",
    "    for i in range(len(columns)):\n",
    "        for j in range(i + 1, len(columns)):\n",
    "            col1 = columns[i]\n",
    "            col2 = columns[j]\n",
    "            col1_strings = set(df[col1].dropna().astype(str).tolist())\n",
    "            col2_strings = set(df[col2].dropna().astype(str).tolist())\n",
    "            common = col1_strings.intersection(col2_strings)\n",
    "            if common:\n",
    "                for value in common:\n",
    "                    common_strings.append((col1, col2, value))\n",
    "    \n",
    "    return common_strings\n",
    "\n",
    "def count_frequencies(df, column_name):\n",
    "    \"\"\"\n",
    "    统计DataFrame中指定列的值的频率\n",
    "\n",
    "    参数:\n",
    "    df (pd.DataFrame): 数据框\n",
    "    column_name (str): 要统计的列名\n",
    "\n",
    "    返回:\n",
    "    dict: 各个值的频率\n",
    "    \"\"\"\n",
    "    frequency = Counter(df[column_name])\n",
    "    return frequency\n",
    "\n",
    "def change_key(d, old_key, new_key):\n",
    "    if old_key in d:\n",
    "        d[new_key] = d.pop(old_key)"
   ]
  },
  {
   "cell_type": "code",
   "execution_count": 10,
   "metadata": {},
   "outputs": [
    {
     "name": "stdout",
     "output_type": "stream",
     "text": [
      "列 '维修人员' 和列 '站位' 中有相同的字符串: Others\n",
      "列 'SN' 和列 'CRD' 中有相同的字符串: P1067482-05-A:SJBL22339P7H251\n",
      "列 'SN' 和列 'CRD' 中有相同的字符串: P1671611-01-B:SJBL22337BGB3PW\n",
      "列 '缺陷' 和列 '修理方法' 中有相同的字符串: others\n",
      "列 'CRD' 和列 '站位' 中有相同的字符串: QC\n"
     ]
    }
   ],
   "source": [
    "# 指定CSV文件的路径\n",
    "file_path = './data/failed_data_csv/外修基础数据_202212.csv'\n",
    "\n",
    "# 读取CSV文件\n",
    "data = pd.read_csv(file_path)\n",
    "\n",
    "# 检查重复,重复值必须提前按列分开\n",
    "# 要检查的列名列表\n",
    "column_names = data.columns.tolist()\n",
    "\n",
    "# 检查不同列中是否有相同的字符串\n",
    "common_strings = check_common_strings_across_columns(data)\n",
    "\n",
    "# 打印结果\n",
    "for col1, col2, value in common_strings:\n",
    "    print(f\"列 '{col1}' 和列 '{col2}' 中有相同的字符串: {value}\")"
   ]
  },
  {
   "cell_type": "code",
   "execution_count": 11,
   "metadata": {},
   "outputs": [],
   "source": [
    "# 替换重复值\n",
    "data['缺陷'] = data['缺陷'].replace(\"others\", \"缺陷_Others\")\n",
    "data['修理方法'] = data['修理方法'].replace(\"others\", \"修理方法_Others\")"
   ]
  },
  {
   "cell_type": "code",
   "execution_count": 12,
   "metadata": {},
   "outputs": [],
   "source": [
    "# 统计每种缺陷对应的处理方法\n",
    "temp_result = data.groupby('缺陷')['修理方法'].apply(list).to_dict()\n",
    "failedtype_methods_frequency={key: dict(Counter(value)) for key, value in temp_result.items()}\n"
   ]
  },
  {
   "cell_type": "code",
   "execution_count": 13,
   "metadata": {},
   "outputs": [],
   "source": [
    "# 统计频次并且按照频次值进行排序\n",
    "failedtype_frequencies = dict(sorted(count_frequencies(data, '缺陷').items(), key=lambda item: item[1], reverse=True))\n",
    "methods_frequencies = dict(sorted(count_frequencies(data, '修理方法').items(), key=lambda item: item[1], reverse=True))"
   ]
  },
  {
   "cell_type": "code",
   "execution_count": null,
   "metadata": {},
   "outputs": [
    {
     "data": {
      "text/plain": [
       "'c:\\\\Users\\\\4097084\\\\code\\\\data_analysis\\\\frequency_graph.html'"
      ]
     },
     "execution_count": 21,
     "metadata": {},
     "output_type": "execute_result"
    }
   ],
   "source": [
    "from pyecharts import options as opts\n",
    "from pyecharts.charts import Graph\n",
    "\n",
    "size_parameter=0.01\n",
    "# 创建节点和边\n",
    "nodes=[]\n",
    "failedtype_nodes = [{\"name\": key, \"symbolSize\": [size_parameter*value, 20], \"symbol\": \"rect\",\"category\": 1} for key, value in failedtype_frequencies.items()]\n",
    "methods_nodes=[{\"name\": key, \"symbolSize\": [size_parameter*value, 20], \"symbol\": \"rect\",\"category\": 2} for key, value in methods_frequencies.items()]\n",
    "\n",
    "# 计算每列的最大节点大小\n",
    "max_failedtype_size = max(size_parameter*value for key, value in failedtype_frequencies.items()) if failedtype_frequencies else 0\n",
    "max_methods_size = max(size_parameter*value for key, value in methods_frequencies.items()) if methods_frequencies else 0\n",
    "\n",
    "# 设置列间距和行间距\n",
    "column_spacing = max(max_failedtype_size, max_methods_size)\n",
    "row_spacing = 5\n",
    "\n",
    "# 设置节点的坐标\n",
    "nodes.append({\"name\": \"缺陷\", \"symbolSize\": 30, \"x\": 0, \"y\": 0, \"category\": 0})\n",
    "for i, node in enumerate(failedtype_nodes):\n",
    "    node[\"x\"] = column_spacing\n",
    "    node[\"y\"] = i * row_spacing\n",
    "    nodes.append(node)\n",
    "for i, node in enumerate(methods_nodes):\n",
    "    node[\"x\"] = column_spacing*2\n",
    "    node[\"y\"] = i * row_spacing\n",
    "    nodes.append(node)\n",
    "\n",
    "num_rows_data = data.shape[0]\n",
    "links=[]\n",
    "failedtype_links = [{\"source\": \"缺陷\", \"target\": key, \"value\": value/num_rows_data, \"emphasis\": {\"label\": {\"show\": True, \"formatter\": \"缺陷出现频率: {c}\"}}} for key, value in failedtype_frequencies.items()]\n",
    "methods_links = [\n",
    "    {\"source\": key, \"target\": sub_key, \"value\": sub_value/sum(value.values()), \"emphasis\": {\"label\": {\"show\": True,  \"formatter\": \"处理方法使用频率: {c}\"}}}\n",
    "    for key, value in failedtype_methods_frequency.items()\n",
    "    for sub_key, sub_value in value.items()\n",
    "]\n",
    "links += failedtype_links\n",
    "links += methods_links\n",
    "\n",
    "# 定义分类\n",
    "categories = [\n",
    "    {\"name\": \"分类\",\"itemStyle\": {\"color\": \"red\", \"fontSize\": 14, \"fontWeight\": \"bold\"}},\n",
    "    {\"name\": \"具体类型\",\"itemStyle\": {\"color\": \"blue\", \"fontSize\": 14, \"fontWeight\": \"bold\"}},\n",
    "    {\"name\": \"具体类型\",\"itemStyle\": {\"color\": \"blue\", \"fontSize\": 14, \"fontWeight\": \"bold\"}}\n",
    "]\n",
    "\n",
    "# 创建有向图\n",
    "graph = Graph()\n",
    "\n",
    "graph.add(\n",
    "    \"\",\n",
    "    nodes,\n",
    "    links,\n",
    "    categories=categories,\n",
    "    layout=\"none\",\n",
    "    edge_label=opts.LabelOpts(is_show=False),\n",
    "    is_draggable=True,\n",
    "    edge_symbol=['none', 'arrow'],  # 设置边的形状为箭头\n",
    "    edge_symbol_size=5,  # 设置箭头的大小\n",
    ")\n",
    "graph.set_global_opts(title_opts=opts.TitleOpts(title=\"【缺陷类型-修理方法】频率统计\"))\n",
    "\n",
    "# 渲染图表\n",
    "graph.render(\"frequency_graph.html\")\n",
    "graph"
   ]
  }
 ],
 "metadata": {
  "kernelspec": {
   "display_name": "Python 3",
   "language": "python",
   "name": "python3"
  },
  "language_info": {
   "codemirror_mode": {
    "name": "ipython",
    "version": 3
   },
   "file_extension": ".py",
   "mimetype": "text/x-python",
   "name": "python",
   "nbconvert_exporter": "python",
   "pygments_lexer": "ipython3",
   "version": "3.9.5"
  }
 },
 "nbformat": 4,
 "nbformat_minor": 2
}
